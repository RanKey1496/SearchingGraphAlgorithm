{
 "cells": [
  {
   "cell_type": "code",
   "execution_count": 1,
   "metadata": {},
   "outputs": [],
   "source": [
    "import numpy as np"
   ]
  },
  {
   "cell_type": "code",
   "execution_count": 42,
   "metadata": {},
   "outputs": [],
   "source": [
    "def is_valid(value, max_value):\n",
    "    if value < 0: return False\n",
    "    if value >= max_value: return False\n",
    "    return True\n",
    "    \n",
    "def dfs(matrix, current_x = None, current_y = None, visited = None):\n",
    "    visited.append((current_x, current_y))\n",
    "    value = matrix[current_x, current_y]\n",
    "    \n",
    "    if value == 9: return current_x, current_y\n",
    "    if not(is_valid(current_x, matrix.shape[0]) or is_valid(current_y, matrix.shape[1])): return\n",
    "    \n",
    "    for n in range(current_x - 1, current_x + 2):\n",
    "        for m in range(current_y - 1, current_y + 2):\n",
    "            if not(n == current_x and m == current_y) \\\n",
    "                and is_valid(n, matrix.shape[0]) and is_valid(m, matrix.shape[1]) \\\n",
    "                and (n,m) not in visited:\n",
    "                    return dfs(matrix, n, m, visited)"
   ]
  },
  {
   "cell_type": "code",
   "execution_count": 58,
   "metadata": {},
   "outputs": [],
   "source": [
    "def bfs(matrix = None, queue = None):\n",
    "    current_index = queue.get()\n",
    "    current_x, current_y = current_index[0], current_index[1]\n",
    "    \n",
    "    value = matrix[current_x, current_y]\n",
    "    \n",
    "    if value == 9: return current_x, current_y\n",
    "    \n",
    "    for n in range(current_x - 1, current_x + 2):\n",
    "        for m in range(current_y - 1, current_x + 2):\n",
    "            if not(n == current_x and m == current_y) \\\n",
    "                and is_valid(n, matrix.shape[0]) and is_valid(m, matrix.shape[1]) \\\n",
    "                and (n,m) not in queue.queue:\n",
    "                    queue.put((n,m))\n",
    "    return bfs(matrix, queue)"
   ]
  },
  {
   "cell_type": "code",
   "execution_count": 59,
   "metadata": {},
   "outputs": [
    {
     "name": "stdout",
     "output_type": "stream",
     "text": [
      "0 1\n",
      "(0, 1)\n"
     ]
    }
   ],
   "source": [
    "n = 2\n",
    "matrix = np.zeros((n,n))\n",
    "x, y = np.random.randint(n), np.random.randint(n)\n",
    "matrix[x,y] = 9\n",
    "start_x, start_y = 0,0 #np.random.randint(n), np.random.randint(n)\n",
    "visited = []\n",
    "print(x,y)\n",
    "print(dfs(matrix, start_x, start_y, visited))"
   ]
  },
  {
   "cell_type": "code",
   "execution_count": 60,
   "metadata": {},
   "outputs": [
    {
     "name": "stdout",
     "output_type": "stream",
     "text": [
      "(0, 1)\n"
     ]
    }
   ],
   "source": [
    "import queue\n",
    "start_queue = queue.Queue()\n",
    "start_queue.put((start_x, start_y))\n",
    "print(bfs(matrix, start_queue))"
   ]
  },
  {
   "cell_type": "code",
   "execution_count": null,
   "metadata": {},
   "outputs": [],
   "source": []
  }
 ],
 "metadata": {
  "kernelspec": {
   "display_name": "Python 3",
   "language": "python",
   "name": "python3"
  },
  "language_info": {
   "codemirror_mode": {
    "name": "ipython",
    "version": 3
   },
   "file_extension": ".py",
   "mimetype": "text/x-python",
   "name": "python",
   "nbconvert_exporter": "python",
   "pygments_lexer": "ipython3",
   "version": "3.6.5"
  }
 },
 "nbformat": 4,
 "nbformat_minor": 2
}
