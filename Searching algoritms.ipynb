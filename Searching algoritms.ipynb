{
 "cells": [
  {
   "cell_type": "code",
   "execution_count": 1,
   "metadata": {},
   "outputs": [
    {
     "name": "stdout",
     "output_type": "stream",
     "text": [
      "Pixiedust database opened successfully\n"
     ]
    },
    {
     "data": {
      "text/html": [
       "\n",
       "        <div style=\"margin:10px\">\n",
       "            <a href=\"https://github.com/ibm-watson-data-lab/pixiedust\" target=\"_new\">\n",
       "                <img src=\"https://github.com/ibm-watson-data-lab/pixiedust/raw/master/docs/_static/pd_icon32.png\" style=\"float:left;margin-right:10px\"/>\n",
       "            </a>\n",
       "            <span>Pixiedust version 1.1.14</span>\n",
       "        </div>\n",
       "        "
      ],
      "text/plain": [
       "<IPython.core.display.HTML object>"
      ]
     },
     "metadata": {},
     "output_type": "display_data"
    }
   ],
   "source": [
    "import pixiedust\n",
    "import numpy as np"
   ]
  },
  {
   "cell_type": "code",
   "execution_count": 2,
   "metadata": {},
   "outputs": [],
   "source": [
    "def is_valid(value, max_value):\n",
    "    if value < 0: return False\n",
    "    if value >= max_value: return False\n",
    "    return True"
   ]
  },
  {
   "cell_type": "code",
   "execution_count": 14,
   "metadata": {},
   "outputs": [],
   "source": [
    "def dfs(matrix, current_x = None, current_y = None, visited = None, queue = None):\n",
    "    visited.append((current_x, current_y))\n",
    "    value = matrix[current_x, current_y]\n",
    "    \n",
    "    if value == 9: return current_x, current_y\n",
    "    if not(is_valid(current_x, matrix.shape[0]) or is_valid(current_y, matrix.shape[1])): return\n",
    "    \n",
    "    for n in range(current_x - 1, current_x + 2):\n",
    "        for m in range(current_y - 1, current_y + 2):\n",
    "            if not(n == current_x and m == current_y) \\\n",
    "                and is_valid(n, matrix.shape[0]) \\\n",
    "                and is_valid(m, matrix.shape[1]) \\\n",
    "                and (matrix[n,m] == 1 or matrix[n,m] == 9) \\\n",
    "                and (n,m) not in visited:\n",
    "                    return dfs(matrix, n, m, visited)"
   ]
  },
  {
   "cell_type": "code",
   "execution_count": 12,
   "metadata": {
    "pixiedust": {
     "displayParams": {}
    }
   },
   "outputs": [],
   "source": [
    "def bfs(matrix = None, queue = None):\n",
    "    current_index = queue[-1]\n",
    "    current_x, current_y = current_index[0], current_index[1]\n",
    "    \n",
    "    value = matrix[current_x, current_y]\n",
    "    \n",
    "    print(current_x, current_y, value)\n",
    "    if value == 9:\n",
    "        return current_x, current_y\n",
    "    \n",
    "    for n in range(current_x, current_x + 2):\n",
    "        for m in range(current_y, current_x + 2):\n",
    "            if not(n == current_x and m == current_y) \\\n",
    "                and is_valid(n, matrix.shape[0]) \\\n",
    "                and is_valid(m, matrix.shape[1]) \\\n",
    "                and (matrix[n,m] == 1 or matrix[n,m] == 9) \\\n",
    "                and (n,m) not in queue:\n",
    "                    queue.append((n,m))\n",
    "                    return bfs(matrix, queue)"
   ]
  },
  {
   "cell_type": "code",
   "execution_count": 13,
   "metadata": {
    "pixiedust": {
     "displayParams": {}
    },
    "scrolled": true
   },
   "outputs": [
    {
     "name": "stdout",
     "output_type": "stream",
     "text": [
      "0 0 1\n",
      "1 1 1\n",
      "1 2 1\n",
      "2 2 1\n",
      "2 3 1\n",
      "3 3 1\n",
      "3 4 1\n",
      "4 4 1\n",
      "5 4 9\n",
      "[(0, 0), (1, 1), (1, 2), (2, 2), (2, 3), (3, 3), (3, 4), (4, 4), (5, 4)]\n"
     ]
    }
   ],
   "source": [
    "start_queue = []\n",
    "start_queue.append((0,0))\n",
    "matrix = np.array([\n",
    "    [1,0,0,0,0,0],\n",
    "    [0,1,1,0,0,0],\n",
    "    [0,1,1,1,1,0],\n",
    "    [0,0,0,1,1,0],\n",
    "    [0,0,0,1,1,0],\n",
    "    [0,0,0,0,9,0]\n",
    "])\n",
    "bfs(matrix, start_queue)\n",
    "print(start_queue)"
   ]
  },
  {
   "cell_type": "code",
   "execution_count": 17,
   "metadata": {},
   "outputs": [
    {
     "name": "stdout",
     "output_type": "stream",
     "text": [
      "(5, 4)\n",
      "[(0, 0), (1, 1), (1, 2), (2, 1), (2, 2), (2, 3), (2, 4), (3, 3), (3, 4), (4, 3), (4, 4), (5, 4)]\n"
     ]
    }
   ],
   "source": [
    "start_x, start_y = 0,0 #np.random.randint(n), np.random.randint(n)\n",
    "visited = []\n",
    "print(dfs(matrix, start_x, start_y, visited))\n",
    "print(visited)"
   ]
  },
  {
   "cell_type": "code",
   "execution_count": 60,
   "metadata": {},
   "outputs": [
    {
     "name": "stdout",
     "output_type": "stream",
     "text": [
      "(0, 1)\n"
     ]
    }
   ],
   "source": []
  },
  {
   "cell_type": "code",
   "execution_count": null,
   "metadata": {},
   "outputs": [],
   "source": []
  }
 ],
 "metadata": {
  "kernelspec": {
   "display_name": "Python 3",
   "language": "python",
   "name": "python3"
  },
  "language_info": {
   "codemirror_mode": {
    "name": "ipython",
    "version": 3
   },
   "file_extension": ".py",
   "mimetype": "text/x-python",
   "name": "python",
   "nbconvert_exporter": "python",
   "pygments_lexer": "ipython3",
   "version": "3.6.5"
  }
 },
 "nbformat": 4,
 "nbformat_minor": 2
}
