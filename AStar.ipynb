{
 "cells": [
  {
   "cell_type": "code",
   "execution_count": 1,
   "metadata": {},
   "outputs": [],
   "source": [
    "class Node():\n",
    "    def __init__(self, parent=None, position=None):\n",
    "        self.parent = parent\n",
    "        self.position = position\n",
    "        self.g = 0\n",
    "        self.h = 0\n",
    "        self.f = 0\n",
    "        \n",
    "    def __eq__(self, other):\n",
    "        return self.position == other.position"
   ]
  },
  {
   "cell_type": "code",
   "execution_count": 39,
   "metadata": {},
   "outputs": [],
   "source": [
    "def is_valid(value, max_value):\n",
    "    if value < 0: return False\n",
    "    if value >= max_value: return False\n",
    "    return True\n",
    "\n",
    "def astar(matrix, start, end):\n",
    "    start_node = Node(None, start)\n",
    "    start_node.g = start_node.h = start_node.f = 0\n",
    "    end_node = Node(None, end)\n",
    "    end_node.g = end_node.h = end_node.f = 0\n",
    "    \n",
    "    open_list = []\n",
    "    closed_list = []\n",
    "    \n",
    "    open_list.append(start_node)\n",
    "    \n",
    "    while len(open_list) > 0:\n",
    "        current_node = open_list[0]\n",
    "        current_index = 0\n",
    "        for index, item in enumerate(open_list):\n",
    "            if item.f < current_node.f:\n",
    "                current_node = item\n",
    "                current_index = index\n",
    "                \n",
    "        open_list.pop(current_index)\n",
    "        closed_list.append(current_node)\n",
    "        \n",
    "        if current_node == end_node:\n",
    "            print('Final node')\n",
    "            path = []\n",
    "            current = current_node\n",
    "            while current is not None:\n",
    "                path.append(current.position)\n",
    "                current = current.parent\n",
    "            return path[::-1]\n",
    "        \n",
    "        children = []\n",
    "        for new_position in [(0, -1), (0, 1), (-1, 0), (1, 0), (-1, -1), (-1, 1), (1, -1), (1, 1)]:\n",
    "            node_position = (current_node.position[0] + new_position[0], current_node.position[1] + new_position[1])\n",
    "            \n",
    "            if node_position[0] > (len(matrix) - 1) or node_position[0] < 0 or node_position[1] > (len(matrix[len(matrix)-1]) -1) or node_position[1] < 0:\n",
    "                continue\n",
    "            \n",
    "            if matrix[node_position[0]][node_position[1]] != 1 and matrix[node_position[0]][node_position[1]] != 9:\n",
    "                continue\n",
    "            \n",
    "            new_node = Node(current_node, node_position)\n",
    "            \n",
    "            children.append(new_node)\n",
    "            \n",
    "        for child in children:\n",
    "            for closed_child in closed_list:\n",
    "                if child == closed_child:\n",
    "                    continue\n",
    "                    \n",
    "            child.g = current_node.g + 1\n",
    "            child.h = ((child.position[0] - end_node.position[0]) ** 2) + ((child.position[1] - end_node.position[1]) ** 2)\n",
    "            child.f = child.g + child.h\n",
    "            \n",
    "            for open_node in open_list:\n",
    "                if child == open_node and child.g > open_node.g:\n",
    "                    continue\n",
    "            \n",
    "            open_list.append(child)"
   ]
  },
  {
   "cell_type": "code",
   "execution_count": 40,
   "metadata": {},
   "outputs": [
    {
     "name": "stdout",
     "output_type": "stream",
     "text": [
      "Final node\n",
      "[(0, 0), (1, 1), (2, 2), (3, 3), (4, 4), (5, 4)]\n"
     ]
    }
   ],
   "source": [
    "import numpy as np\n",
    "matrix = [\n",
    "    [1,0,0,0,0,0],\n",
    "    [0,1,1,0,0,0],\n",
    "    [0,1,1,1,1,0],\n",
    "    [0,0,0,1,1,0],\n",
    "    [0,0,0,1,1,0],\n",
    "    [0,0,0,0,9,0]\n",
    "]\n",
    "start = (0,0)\n",
    "end = (5,4)\n",
    "\n",
    "path = astar(matrix, start, end)\n",
    "print(path)"
   ]
  },
  {
   "cell_type": "code",
   "execution_count": null,
   "metadata": {},
   "outputs": [],
   "source": []
  }
 ],
 "metadata": {
  "kernelspec": {
   "display_name": "Python 3",
   "language": "python",
   "name": "python3"
  },
  "language_info": {
   "codemirror_mode": {
    "name": "ipython",
    "version": 3
   },
   "file_extension": ".py",
   "mimetype": "text/x-python",
   "name": "python",
   "nbconvert_exporter": "python",
   "pygments_lexer": "ipython3",
   "version": "3.6.5"
  }
 },
 "nbformat": 4,
 "nbformat_minor": 2
}
