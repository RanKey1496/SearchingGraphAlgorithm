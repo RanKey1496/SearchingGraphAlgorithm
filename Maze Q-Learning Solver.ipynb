{
 "cells": [
  {
   "cell_type": "code",
   "execution_count": 6,
   "metadata": {},
   "outputs": [],
   "source": [
    "import numpy as np\n",
    "import random\n",
    "import matplotlib.pyplot as plt"
   ]
  },
  {
   "cell_type": "code",
   "execution_count": 7,
   "metadata": {},
   "outputs": [],
   "source": [
    "gamma = 0.8"
   ]
  },
  {
   "cell_type": "code",
   "execution_count": 8,
   "metadata": {},
   "outputs": [],
   "source": [
    "matrix = np.array([\n",
    "    [1,0,0,0],\n",
    "    [0,1,1,0],\n",
    "    [0,1,1,1],\n",
    "    [0,0,0,9]\n",
    "])"
   ]
  },
  {
   "cell_type": "code",
   "execution_count": 9,
   "metadata": {},
   "outputs": [],
   "source": [
    "reward = np.array([\n",
    "    [0,-10,0,-10,-1],\n",
    "    [0,-1,-1,-10,-1],\n",
    "    [0,-1,-10,-10,-1],\n",
    "    [0,-10,-10,0,-1],\n",
    "    \n",
    "    [-1,-10,0,-1,-1],\n",
    "    [-10,-1,-10,-1,-1],\n",
    "    [-10,-1,-1,-10,-1],\n",
    "    [-10,-1,-1,0,-1],\n",
    "    \n",
    "    [-10,-10,0,-1,-1],\n",
    "    [-1,-10,-10,-1,-1],\n",
    "    [-1,-10,-1,-1,-1],\n",
    "    [-10,10,-1,0,-1],\n",
    "    \n",
    "    [-10,0,0,-10,-1],\n",
    "    [-1,0,-10,-10,-1],\n",
    "    [-1,0,-10,10,-1],\n",
    "    [-1,0,-10,0,100]\n",
    "])"
   ]
  },
  {
   "cell_type": "code",
   "execution_count": 10,
   "metadata": {},
   "outputs": [],
   "source": [
    "q_matrix = np.zeros((4,4))\n",
    "transition_matrix = np.array([\n",
    "    [-1,4,-1,1,1],\n",
    "    [-1,5,0,2,2],\n",
    "    [-1,6,1,3,3],\n",
    "    [-1,7,2,-1,4],\n",
    "    \n",
    "    [0,8,-1,5,5],\n",
    "    [1,9,4,6,6],\n",
    "    [2,10,5,7,7],\n",
    "    [3,11,6,-1,8],\n",
    "    \n",
    "    [4,12,-1,9,9],\n",
    "    [5,13,8,10,10],\n",
    "    [6,14,9,11,11],\n",
    "    [7,15,10,-1,12],\n",
    "    \n",
    "    [8,-1,-1,13,13],\n",
    "    [9,-1,12,14,14],\n",
    "    [10,-1,13,15,15],\n",
    "    [11,-1,14,-1,16]\n",
    "])\n",
    "\n",
    "valid_actions = np.array([\n",
    "    [1,3,4],\n",
    "    [1,2,3,4],\n",
    "    [1,2,3,4],\n",
    "    [1,2,4],\n",
    "    \n",
    "    [0,1,3,4],\n",
    "    [0,1,2,3,4],\n",
    "    [0,1,2,3,4],\n",
    "    [0,1,2,4],\n",
    "    \n",
    "    [0,1,3,4],\n",
    "    [0,1,2,3,4],\n",
    "    [0,1,2,3,4],\n",
    "    [0,1,2,4],\n",
    "    \n",
    "    [0,3,4],\n",
    "    [0,2,3,4],\n",
    "    [0,2,3,4],\n",
    "    [0,2,4]\n",
    "])"
   ]
  },
  {
   "cell_type": "code",
   "execution_count": 12,
   "metadata": {},
   "outputs": [
    {
     "ename": "IndexError",
     "evalue": "index 4 is out of bounds for axis 0 with size 4",
     "output_type": "error",
     "traceback": [
      "\u001b[1;31m---------------------------------------------------------------------------\u001b[0m",
      "\u001b[1;31mIndexError\u001b[0m                                Traceback (most recent call last)",
      "\u001b[1;32m<ipython-input-12-795a7b4d308e>\u001b[0m in \u001b[0;36m<module>\u001b[1;34m()\u001b[0m\n\u001b[0;32m      7\u001b[0m         \u001b[0mfuture_rewards\u001b[0m \u001b[1;33m=\u001b[0m \u001b[1;33m[\u001b[0m\u001b[1;33m]\u001b[0m\u001b[1;33m\u001b[0m\u001b[0m\n\u001b[0;32m      8\u001b[0m         \u001b[1;32mfor\u001b[0m \u001b[0maction_nxt\u001b[0m \u001b[1;32min\u001b[0m \u001b[0mvalid_actions\u001b[0m\u001b[1;33m[\u001b[0m\u001b[0mnext_state\u001b[0m\u001b[1;33m]\u001b[0m\u001b[1;33m:\u001b[0m\u001b[1;33m\u001b[0m\u001b[0m\n\u001b[1;32m----> 9\u001b[1;33m             \u001b[0mfuture_rewards\u001b[0m\u001b[1;33m.\u001b[0m\u001b[0mappend\u001b[0m\u001b[1;33m(\u001b[0m\u001b[0mq_matrix\u001b[0m\u001b[1;33m[\u001b[0m\u001b[0mnext_state\u001b[0m\u001b[1;33m]\u001b[0m\u001b[1;33m[\u001b[0m\u001b[0maction_nxt\u001b[0m\u001b[1;33m]\u001b[0m\u001b[1;33m)\u001b[0m\u001b[1;33m\u001b[0m\u001b[0m\n\u001b[0m\u001b[0;32m     10\u001b[0m         \u001b[0mq_state\u001b[0m \u001b[1;33m=\u001b[0m \u001b[0mreward\u001b[0m\u001b[1;33m[\u001b[0m\u001b[0mcurrent_state\u001b[0m\u001b[1;33m]\u001b[0m\u001b[1;33m[\u001b[0m\u001b[0maction\u001b[0m\u001b[1;33m]\u001b[0m \u001b[1;33m+\u001b[0m \u001b[0mgamma\u001b[0m\u001b[1;33m*\u001b[0m\u001b[0mmax\u001b[0m\u001b[1;33m(\u001b[0m\u001b[0mfuture_rewards\u001b[0m\u001b[1;33m)\u001b[0m\u001b[1;33m\u001b[0m\u001b[0m\n\u001b[0;32m     11\u001b[0m         \u001b[0mq_matrix\u001b[0m\u001b[1;33m[\u001b[0m\u001b[0mcurrent_state\u001b[0m\u001b[1;33m]\u001b[0m\u001b[1;33m[\u001b[0m\u001b[0maction\u001b[0m\u001b[1;33m]\u001b[0m \u001b[1;33m=\u001b[0m \u001b[0mq_state\u001b[0m\u001b[1;33m\u001b[0m\u001b[0m\n",
      "\u001b[1;31mIndexError\u001b[0m: index 4 is out of bounds for axis 0 with size 4"
     ]
    }
   ],
   "source": [
    "for i in range(1000):\n",
    "    start_state = 0\n",
    "    current_state = start_state\n",
    "    while current_state != 16:\n",
    "        action = random.choice(valid_actions[current_state])\n",
    "        next_state = transition_matrix[current_state][action]\n",
    "        future_rewards = []\n",
    "        for action_nxt in valid_actions[next_state]:\n",
    "            future_rewards.append(q_matrix[next_state][action_nxt])\n",
    "        q_state = reward[current_state][action] + gamma*max(future_rewards)\n",
    "        q_matrix[current_state][action] = q_state\n",
    "        print(q_matrix)\n",
    "        current_state = next_state\n",
    "        if current_state == 16:\n",
    "            print('Goal state reached')\n",
    "\n",
    "print('Final q-matrix: ')\n",
    "print(q_matrix)"
   ]
  },
  {
   "cell_type": "code",
   "execution_count": null,
   "metadata": {},
   "outputs": [],
   "source": []
  }
 ],
 "metadata": {
  "kernelspec": {
   "display_name": "Python 3",
   "language": "python",
   "name": "python3"
  },
  "language_info": {
   "codemirror_mode": {
    "name": "ipython",
    "version": 3
   },
   "file_extension": ".py",
   "mimetype": "text/x-python",
   "name": "python",
   "nbconvert_exporter": "python",
   "pygments_lexer": "ipython3",
   "version": "3.6.5"
  }
 },
 "nbformat": 4,
 "nbformat_minor": 2
}
